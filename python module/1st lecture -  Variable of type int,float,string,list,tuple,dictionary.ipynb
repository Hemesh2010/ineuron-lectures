{
 "cells": [
  {
   "cell_type": "markdown",
   "id": "5ab57a22",
   "metadata": {},
   "source": [
    "# variable - is a kind of entity,where you will be able to store data which you can process at run time\n",
    "e.g- a=10\n",
    "a is a variable and 10 is assigned to it..\n",
    "whenever we create a variable,it acquires memory..memory(RAM) reserved for it...in this 10 is stored...and this memory refered as a:\n",
    "In Python we need not to defined data type of a variable"
   ]
  },
  {
   "cell_type": "code",
   "execution_count": 1,
   "id": "f7582eec",
   "metadata": {},
   "outputs": [],
   "source": [
    "a = 10"
   ]
  },
  {
   "cell_type": "code",
   "execution_count": 2,
   "id": "be422099",
   "metadata": {},
   "outputs": [
    {
     "data": {
      "text/plain": [
       "8"
      ]
     },
     "execution_count": 2,
     "metadata": {},
     "output_type": "execute_result"
    }
   ],
   "source": [
    "a-2"
   ]
  },
  {
   "cell_type": "code",
   "execution_count": 3,
   "id": "59e12098",
   "metadata": {},
   "outputs": [
    {
     "data": {
      "text/plain": [
       "int"
      ]
     },
     "execution_count": 3,
     "metadata": {},
     "output_type": "execute_result"
    }
   ],
   "source": [
    "type(a)"
   ]
  },
  {
   "cell_type": "code",
   "execution_count": 4,
   "id": "8bbfe63a",
   "metadata": {},
   "outputs": [
    {
     "data": {
      "text/plain": [
       "float"
      ]
     },
     "execution_count": 4,
     "metadata": {},
     "output_type": "execute_result"
    }
   ],
   "source": [
    "b = 34.09\n",
    "type(b)"
   ]
  },
  {
   "cell_type": "code",
   "execution_count": 5,
   "id": "db72643f",
   "metadata": {},
   "outputs": [],
   "source": [
    "c = \"This is my first class of python and today's date is 14th may 2022\""
   ]
  },
  {
   "cell_type": "code",
   "execution_count": 6,
   "id": "9992765e",
   "metadata": {},
   "outputs": [
    {
     "data": {
      "text/plain": [
       "str"
      ]
     },
     "execution_count": 6,
     "metadata": {},
     "output_type": "execute_result"
    }
   ],
   "source": [
    "type(c)"
   ]
  },
  {
   "cell_type": "code",
   "execution_count": 7,
   "id": "11afec53",
   "metadata": {},
   "outputs": [
    {
     "ename": "NameError",
     "evalue": "name 'abcd' is not defined",
     "output_type": "error",
     "traceback": [
      "\u001b[1;31m---------------------------------------------------------------------------\u001b[0m",
      "\u001b[1;31mNameError\u001b[0m                                 Traceback (most recent call last)",
      "\u001b[1;32m~\\AppData\\Local\\Temp/ipykernel_5980/532129827.py\u001b[0m in \u001b[0;36m<module>\u001b[1;34m\u001b[0m\n\u001b[1;32m----> 1\u001b[1;33m \u001b[0md\u001b[0m \u001b[1;33m=\u001b[0m \u001b[0mabcd\u001b[0m\u001b[1;33m\u001b[0m\u001b[1;33m\u001b[0m\u001b[0m\n\u001b[0m",
      "\u001b[1;31mNameError\u001b[0m: name 'abcd' is not defined"
     ]
    }
   ],
   "source": [
    "d = abcd"
   ]
  },
  {
   "cell_type": "code",
   "execution_count": 8,
   "id": "2f77ed6c",
   "metadata": {},
   "outputs": [],
   "source": [
    "# string data must be written under double quotes or in single quotes...otherwise compiles gives us error notification:"
   ]
  },
  {
   "cell_type": "code",
   "execution_count": 9,
   "id": "9b325b71",
   "metadata": {},
   "outputs": [],
   "source": [
    "X = 'My name is Hemesh'"
   ]
  },
  {
   "cell_type": "code",
   "execution_count": 10,
   "id": "eac136d3",
   "metadata": {},
   "outputs": [
    {
     "data": {
      "text/plain": [
       "str"
      ]
     },
     "execution_count": 10,
     "metadata": {},
     "output_type": "execute_result"
    }
   ],
   "source": [
    "type(X)"
   ]
  },
  {
   "cell_type": "code",
   "execution_count": 11,
   "id": "1e9b69fa",
   "metadata": {},
   "outputs": [],
   "source": [
    "y = True"
   ]
  },
  {
   "cell_type": "code",
   "execution_count": 12,
   "id": "85c5807a",
   "metadata": {},
   "outputs": [
    {
     "data": {
      "text/plain": [
       "True"
      ]
     },
     "execution_count": 12,
     "metadata": {},
     "output_type": "execute_result"
    }
   ],
   "source": [
    "y"
   ]
  },
  {
   "cell_type": "code",
   "execution_count": 13,
   "id": "bcbb29bc",
   "metadata": {},
   "outputs": [
    {
     "data": {
      "text/plain": [
       "bool"
      ]
     },
     "execution_count": 13,
     "metadata": {},
     "output_type": "execute_result"
    }
   ],
   "source": [
    "type(y)"
   ]
  },
  {
   "cell_type": "code",
   "execution_count": 14,
   "id": "1b23f9d6",
   "metadata": {},
   "outputs": [],
   "source": [
    "w = False"
   ]
  },
  {
   "cell_type": "code",
   "execution_count": 15,
   "id": "516b2f81",
   "metadata": {},
   "outputs": [
    {
     "data": {
      "text/plain": [
       "bool"
      ]
     },
     "execution_count": 15,
     "metadata": {},
     "output_type": "execute_result"
    }
   ],
   "source": [
    "type(w)"
   ]
  },
  {
   "cell_type": "code",
   "execution_count": 16,
   "id": "e526ec0a",
   "metadata": {},
   "outputs": [],
   "source": [
    "# boolean data type: True and False are boolean data type"
   ]
  },
  {
   "cell_type": "code",
   "execution_count": 17,
   "id": "bff00049",
   "metadata": {},
   "outputs": [
    {
     "data": {
      "text/plain": [
       "1"
      ]
     },
     "execution_count": 17,
     "metadata": {},
     "output_type": "execute_result"
    }
   ],
   "source": [
    "True - False"
   ]
  },
  {
   "cell_type": "code",
   "execution_count": 18,
   "id": "d1734a02",
   "metadata": {},
   "outputs": [
    {
     "data": {
      "text/plain": [
       "-1"
      ]
     },
     "execution_count": 18,
     "metadata": {},
     "output_type": "execute_result"
    }
   ],
   "source": [
    "False - True"
   ]
  },
  {
   "cell_type": "code",
   "execution_count": 19,
   "id": "91990205",
   "metadata": {},
   "outputs": [
    {
     "data": {
      "text/plain": [
       "0"
      ]
     },
     "execution_count": 19,
     "metadata": {},
     "output_type": "execute_result"
    }
   ],
   "source": [
    "True - True"
   ]
  },
  {
   "cell_type": "code",
   "execution_count": 20,
   "id": "c121dedc",
   "metadata": {},
   "outputs": [],
   "source": [
    "# True is considered as 1 and False as o internally..."
   ]
  },
  {
   "cell_type": "code",
   "execution_count": 21,
   "id": "109d2e42",
   "metadata": {},
   "outputs": [
    {
     "ename": "ZeroDivisionError",
     "evalue": "division by zero",
     "output_type": "error",
     "traceback": [
      "\u001b[1;31m---------------------------------------------------------------------------\u001b[0m",
      "\u001b[1;31mZeroDivisionError\u001b[0m                         Traceback (most recent call last)",
      "\u001b[1;32m~\\AppData\\Local\\Temp/ipykernel_5980/2917913318.py\u001b[0m in \u001b[0;36m<module>\u001b[1;34m\u001b[0m\n\u001b[1;32m----> 1\u001b[1;33m \u001b[1;32mTrue\u001b[0m \u001b[1;33m/\u001b[0m \u001b[1;32mFalse\u001b[0m\u001b[1;33m\u001b[0m\u001b[1;33m\u001b[0m\u001b[0m\n\u001b[0m",
      "\u001b[1;31mZeroDivisionError\u001b[0m: division by zero"
     ]
    }
   ],
   "source": [
    "True / False"
   ]
  },
  {
   "cell_type": "code",
   "execution_count": 22,
   "id": "d3cb044d",
   "metadata": {},
   "outputs": [
    {
     "data": {
      "text/plain": [
       "0"
      ]
     },
     "execution_count": 22,
     "metadata": {},
     "output_type": "execute_result"
    }
   ],
   "source": [
    "True*False"
   ]
  },
  {
   "cell_type": "code",
   "execution_count": 23,
   "id": "803e7d4c",
   "metadata": {},
   "outputs": [
    {
     "data": {
      "text/plain": [
       "1"
      ]
     },
     "execution_count": 23,
     "metadata": {},
     "output_type": "execute_result"
    }
   ],
   "source": [
    "True*True"
   ]
  },
  {
   "cell_type": "code",
   "execution_count": 24,
   "id": "71376701",
   "metadata": {},
   "outputs": [],
   "source": [
    "n = 5+7j"
   ]
  },
  {
   "cell_type": "code",
   "execution_count": 25,
   "id": "6e689b19",
   "metadata": {},
   "outputs": [
    {
     "data": {
      "text/plain": [
       "complex"
      ]
     },
     "execution_count": 25,
     "metadata": {},
     "output_type": "execute_result"
    }
   ],
   "source": [
    "type(n)"
   ]
  },
  {
   "cell_type": "code",
   "execution_count": 26,
   "id": "935ac23a",
   "metadata": {},
   "outputs": [],
   "source": [
    "# 5 is real and j is imaginary number... j is treated as complex number....  "
   ]
  },
  {
   "cell_type": "code",
   "execution_count": 27,
   "id": "54f64f06",
   "metadata": {},
   "outputs": [
    {
     "data": {
      "text/plain": [
       "(10+14j)"
      ]
     },
     "execution_count": 27,
     "metadata": {},
     "output_type": "execute_result"
    }
   ],
   "source": [
    "n+n"
   ]
  },
  {
   "cell_type": "code",
   "execution_count": 28,
   "id": "84f9c941",
   "metadata": {},
   "outputs": [
    {
     "data": {
      "text/plain": [
       "(5+7j)"
      ]
     },
     "execution_count": 28,
     "metadata": {},
     "output_type": "execute_result"
    }
   ],
   "source": [
    "n"
   ]
  },
  {
   "cell_type": "code",
   "execution_count": 29,
   "id": "32c1c010",
   "metadata": {},
   "outputs": [
    {
     "data": {
      "text/plain": [
       "0.0"
      ]
     },
     "execution_count": 29,
     "metadata": {},
     "output_type": "execute_result"
    }
   ],
   "source": [
    "0/1"
   ]
  },
  {
   "cell_type": "code",
   "execution_count": 30,
   "id": "d76663fc",
   "metadata": {},
   "outputs": [],
   "source": [
    "# floating point is outcome...\n"
   ]
  },
  {
   "cell_type": "code",
   "execution_count": 31,
   "id": "7b821b5b",
   "metadata": {},
   "outputs": [
    {
     "data": {
      "text/plain": [
       "5.0"
      ]
     },
     "execution_count": 31,
     "metadata": {},
     "output_type": "execute_result"
    }
   ],
   "source": [
    "n.real\n",
    "# n.press tab botton,we can access inbuilt functions related to data type of number.."
   ]
  },
  {
   "cell_type": "code",
   "execution_count": 32,
   "id": "c6ac6b89",
   "metadata": {},
   "outputs": [
    {
     "data": {
      "text/plain": [
       "7.0"
      ]
     },
     "execution_count": 32,
     "metadata": {},
     "output_type": "execute_result"
    }
   ],
   "source": [
    "n.imag"
   ]
  },
  {
   "cell_type": "code",
   "execution_count": 33,
   "id": "88940fb5",
   "metadata": {},
   "outputs": [
    {
     "data": {
      "text/plain": [
       "<function complex.conjugate>"
      ]
     },
     "execution_count": 33,
     "metadata": {},
     "output_type": "execute_result"
    }
   ],
   "source": [
    "n.conjugate"
   ]
  },
  {
   "cell_type": "code",
   "execution_count": 34,
   "id": "9158ff0d",
   "metadata": {},
   "outputs": [],
   "source": [
    "# shift + tab  = tells what any particular function performs which task...."
   ]
  },
  {
   "cell_type": "code",
   "execution_count": 35,
   "id": "3f6afbbf",
   "metadata": {},
   "outputs": [
    {
     "data": {
      "text/plain": [
       "\"This is my first class of python and today's date is 14th may 2022\""
      ]
     },
     "execution_count": 35,
     "metadata": {},
     "output_type": "execute_result"
    }
   ],
   "source": [
    "c"
   ]
  },
  {
   "cell_type": "code",
   "execution_count": 36,
   "id": "ff6e7831",
   "metadata": {},
   "outputs": [
    {
     "data": {
      "text/plain": [
       "str"
      ]
     },
     "execution_count": 36,
     "metadata": {},
     "output_type": "execute_result"
    }
   ],
   "source": [
    "type(c)"
   ]
  },
  {
   "cell_type": "markdown",
   "id": "39a8eb71",
   "metadata": {},
   "source": [
    "   #                                       List([])"
   ]
  },
  {
   "cell_type": "code",
   "execution_count": 37,
   "id": "111ef7f7",
   "metadata": {},
   "outputs": [],
   "source": [
    "# list is another and useful data type...if a variable of kind of list then we can store many int,float and other type of data into one variable.."
   ]
  },
  {
   "cell_type": "code",
   "execution_count": 38,
   "id": "3e1b6261",
   "metadata": {},
   "outputs": [],
   "source": [
    "l = [3,4,5,6,True,\"sudh\",5+3j,345.456]\n",
    "# any variable of kind of list can accomodate with homogeneous or hetergeneous data"
   ]
  },
  {
   "cell_type": "code",
   "execution_count": 39,
   "id": "3d800496",
   "metadata": {},
   "outputs": [
    {
     "data": {
      "text/plain": [
       "list"
      ]
     },
     "execution_count": 39,
     "metadata": {},
     "output_type": "execute_result"
    }
   ],
   "source": [
    "type(l)"
   ]
  },
  {
   "cell_type": "markdown",
   "id": "a62e0eef",
   "metadata": {},
   "source": [
    "length of list can be as per our convenience....\n",
    "list always tries to store data in form of indices,i.e, l[0] = 3 and l[1] = 4 and so on....."
   ]
  },
  {
   "cell_type": "code",
   "execution_count": 40,
   "id": "b828e53c",
   "metadata": {},
   "outputs": [
    {
     "data": {
      "text/plain": [
       "True"
      ]
     },
     "execution_count": 40,
     "metadata": {},
     "output_type": "execute_result"
    }
   ],
   "source": [
    "l[4]"
   ]
  },
  {
   "cell_type": "code",
   "execution_count": 41,
   "id": "0d323ff3",
   "metadata": {},
   "outputs": [],
   "source": [
    "# there are many inbuilt functions which is related to list....which we come to later \n"
   ]
  },
  {
   "cell_type": "markdown",
   "id": "b384a903",
   "metadata": {},
   "source": [
    "#                                    Tuple"
   ]
  },
  {
   "cell_type": "code",
   "execution_count": 42,
   "id": "94497af5",
   "metadata": {},
   "outputs": [],
   "source": [
    "# list is mutable and tuple is immutable......tuple is another useful data type and is represented by ()...."
   ]
  },
  {
   "cell_type": "code",
   "execution_count": 43,
   "id": "c9f7fcdf",
   "metadata": {},
   "outputs": [],
   "source": [
    "t = (324,456,456,65,456,46,\"6546546\",\"sudh\")"
   ]
  },
  {
   "cell_type": "code",
   "execution_count": 44,
   "id": "c092a01e",
   "metadata": {},
   "outputs": [
    {
     "data": {
      "text/plain": [
       "tuple"
      ]
     },
     "execution_count": 44,
     "metadata": {},
     "output_type": "execute_result"
    }
   ],
   "source": [
    "type(t)"
   ]
  },
  {
   "cell_type": "markdown",
   "id": "b2b304ca",
   "metadata": {},
   "source": [
    "#                              Dictionary"
   ]
  },
  {
   "cell_type": "code",
   "execution_count": 45,
   "id": "3ef7c053",
   "metadata": {},
   "outputs": [],
   "source": [
    "# dictionary is another useful data type in python.....here (key : value) kind of pair come into the picture.... "
   ]
  },
  {
   "cell_type": "code",
   "execution_count": 46,
   "id": "bdf72e26",
   "metadata": {},
   "outputs": [],
   "source": [
    "d = {'a' : \"sudh\", \"b\" : \"kumar\", \"c\" : \"23432\"}"
   ]
  },
  {
   "cell_type": "code",
   "execution_count": 47,
   "id": "c12c5714",
   "metadata": {},
   "outputs": [
    {
     "data": {
      "text/plain": [
       "dict"
      ]
     },
     "execution_count": 47,
     "metadata": {},
     "output_type": "execute_result"
    }
   ],
   "source": [
    "type(d)"
   ]
  },
  {
   "cell_type": "code",
   "execution_count": null,
   "id": "4705949d",
   "metadata": {},
   "outputs": [],
   "source": []
  }
 ],
 "metadata": {
  "kernelspec": {
   "display_name": "Python 3 (ipykernel)",
   "language": "python",
   "name": "python3"
  },
  "language_info": {
   "codemirror_mode": {
    "name": "ipython",
    "version": 3
   },
   "file_extension": ".py",
   "mimetype": "text/x-python",
   "name": "python",
   "nbconvert_exporter": "python",
   "pygments_lexer": "ipython3",
   "version": "3.9.7"
  }
 },
 "nbformat": 4,
 "nbformat_minor": 5
}
